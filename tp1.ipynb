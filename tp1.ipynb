{
 "cells": [
  {
   "cell_type": "markdown",
   "metadata": {},
   "source": [
    "# Criterios de evaluación.\n",
    "\n",
    "* Se deben utilizar nombres de variables descriptivos y claros (Utilizar la nomeclatura correspondiente para los nombres de variables).\n",
    "* Comentarios claros y concisos que expliquen el propósito de cada sección del código.\n",
    "* Entrega en tiempo y forma.\n",
    "* Todo el código desarrollado debe ser subido a un repositorio en GitHub (el nombre del repositorio de seguir la siguiente estructura: tp1_tlp3_nombre_apellido).\n",
    "\n",
    "\n",
    "**Aclaración: Para resolver las actividades se debe incertar casillas de codigo entre cada actividad del cuaderno de Jupyter**"
   ]
  },
  {
   "cell_type": "markdown",
   "metadata": {},
   "source": [
    "### 1. **Hola Mundo y Variables**\n",
    "\n",
    "   - **Actividad 1.1**: Deben escribir un programa que imprima \"¡Hola, Mundo!\" en la consola.\n",
    "   - **Actividad 1.2**: Deben crear una variable llamada `nombre` y hacer que el programa imprima un saludo personalizado: `Hola, <nombre>!`"
   ]
  },
  {
   "cell_type": "code",
   "execution_count": null,
   "metadata": {},
   "outputs": [],
   "source": [
    "\n",
    "#Actividad 1.1:\n",
    "saludo = '¡Hola, Mundo!'\n",
    "print(saludo)\n",
    "\n",
    "#Actividad 1.2:\n",
    "nombre = 'Tomas' \n",
    "print(\"Hola,\" + nombre + \"!\")"
   ]
  },
  {
   "cell_type": "markdown",
   "metadata": {},
   "source": [
    "### 2. **Operaciones Matemáticas Básicas**\n",
    "\n",
    "   - **Actividad 1.1**: Crear un programa que pida al usuario dos números y realice las cuatro operaciones matemáticas básicas (suma, resta, multiplicación y división), imprimiendo los resultados.\n",
    "   - **Actividad 1.2**: Hacer que el programa calcule el promedio de los dos números."
   ]
  },
  {
   "cell_type": "code",
   "execution_count": null,
   "metadata": {},
   "outputs": [],
   "source": [
    "\n",
    "#Actividad 1.1:\n",
    "print(\"Escriba los dos números a operar:\")\n",
    "primer_numero = int(input(\"Ingrese el primer número: \"))\n",
    "segundo_numero = int(input(\"Ingrese el segundo número: \"))\n",
    "\n",
    "print(f\"Suma: {primer_numero} + {segundo_numero} = {primer_numero + segundo_numero}\")\n",
    "print(f\"Resta: {primer_numero} - {segundo_numero} = {primer_numero - segundo_numero}\")\n",
    "print(f\"Multiplicacion: {primer_numero} * {segundo_numero} = {primer_numero * segundo_numero}\")\n",
    "print(f\"Division: {primer_numero} / {segundo_numero} = {primer_numero / segundo_numero}\")\n",
    "#Actividad 1.2:\n",
    "promedio = (primer_numero + segundo_numero) / 2\n",
    "print(f\"Promedio de {primer_numero} y {segundo_numero}: {promedio}\")\n",
    "\n",
    "\n"
   ]
  },
  {
   "cell_type": "markdown",
   "metadata": {},
   "source": [
    "### 3. **Condicionales (if-else)**\n",
    "\n",
    "   - **Actividad 1.1**: Escribir un programa que pida al usuario su edad y le diga si es mayor de edad (18 años o más).\n",
    "   - **Actividad 1.2**: Agregar un mensaje diferente para diferentes rangos de edad, como por ejemplo, si es un niño, adolescente o adulto."
   ]
  },
  {
   "cell_type": "code",
   "execution_count": null,
   "metadata": {},
   "outputs": [],
   "source": [
    "\n",
    "edad = int(input(\"ingrese su edad: \"))\n",
    "\n",
    "if (edad >= 18):\n",
    "    print(f\"tienes {edad} años entonces eres un adulto\")\n",
    "elif (edad < 18 and edad >= 12):\n",
    "    print(f\"tienes {edad} años entonces eres un adolecente\")\n",
    "elif (edad < 12 and edad > 0):\n",
    "    print(f\"tienes {edad} años entonces eres un niño\")\n",
    "else:\n",
    "    if (edad <= 0):\n",
    "        print(f\"{edad} años no es una edad correspondiente\")"
   ]
  },
  {
   "cell_type": "markdown",
   "metadata": {},
   "source": [
    "### 4. **Ciclos (while, for)**\n",
    "\n",
    "   - **Actividad 1.1**: Escribir un programa que imprima los números del 1 al 10 usando un bucle `for`.\n",
    "   - **Actividad 1.2**: Usar un bucle `while` para imprimir los números del 1 al 10, e imprimir solo aquellos números que sean divisibles por 2."
   ]
  },
  {
   "cell_type": "code",
   "execution_count": null,
   "metadata": {},
   "outputs": [],
   "source": [
    "\n",
    "# Actividad 1.1:\n",
    "for i in range(1,11):\n",
    "    print(i)\n"
   ]
  },
  {
   "cell_type": "code",
   "execution_count": null,
   "metadata": {},
   "outputs": [],
   "source": [
    "# Actividad 1.2:\n",
    "for iteracion in range(0,11,2):\n",
    "    print(iteracion)"
   ]
  },
  {
   "cell_type": "markdown",
   "metadata": {},
   "source": [
    "### 5. **Listas y Bucles**\n",
    "\n",
    "   - **Actividad 1.1**: Crear una lista con 5 números y escribir un programa que imprima cada número de la lista usando un bucle `for`.\n",
    "   - **Actividad 1.2**: Usar un bucle para calcular la suma de los números de la lista."
   ]
  },
  {
   "cell_type": "code",
   "execution_count": null,
   "metadata": {},
   "outputs": [],
   "source": [
    "\n",
    "# Actividad 1.1:\n",
    "list = [14, 15, 16, 18, 20]\n",
    "for i in list:\n",
    "    print(i)\n",
    "\n",
    "# Actividad 1.2:\n",
    "suma = 0\n",
    "for iteracion in list:\n",
    "    suma += iteracion\n",
    "\n",
    "print(suma)"
   ]
  },
  {
   "cell_type": "markdown",
   "metadata": {},
   "source": [
    "### 6. **Funciones**\n",
    "\n",
    "   - **Actividad 1.1**: Escribir una función llamada `saludo` que reciba un nombre como parámetro y devuelva un saludo personalizado.\n",
    "   - **Actividad 1.2**: Crear una función que reciba dos números y devuelva su suma, resta, multiplicación y división."
   ]
  },
  {
   "cell_type": "code",
   "execution_count": null,
   "metadata": {},
   "outputs": [],
   "source": [
    "\n",
    "# Actividad 1.1:\n",
    "def saludo(nombre):\n",
    "    print(f\"hola, {nombre}!\")\n",
    "\n",
    "saludo(\"Tomy\")\n"
   ]
  },
  {
   "cell_type": "code",
   "execution_count": null,
   "metadata": {},
   "outputs": [],
   "source": [
    "#Actividad 1.2:\n",
    "def suma(num1, num2):\n",
    "    print(f\"suma: {num1}+{num2} = {num1+num2}\")\n",
    "\n",
    "suma(2, 4)\n",
    "\n",
    "def resta(num3, num4):\n",
    "    print(f\"resta: {num3}-{num4}={num3-num4}\")\n",
    "\n",
    "resta(5, 4)\n",
    "\n",
    "def mult(num5, num6):\n",
    "    print(f\"multiplicacion: {num5}*{num6}={num5*num6}\")\n",
    "\n",
    "mult(10, 10)\n",
    "\n",
    "def div(num7, num8):\n",
    "    print(f\"division: {num7}/{num8}={num7/num8}\")\n",
    "\n",
    "div(20, 5)"
   ]
  },
  {
   "cell_type": "markdown",
   "metadata": {},
   "source": [
    "### 7. **Manejo de cadenas de texto**\n",
    "\n",
    "   - **Actividad 1.1**: Escribir un programa que pida al usuario su nombre y lo imprima en mayúsculas y en minúsculas.\n",
    "   - **Actividad 1.2**: Hacer que el programa imprima la longitud del nombre ingresado (no tener en cuenta los espacios en blanco)."
   ]
  },
  {
   "cell_type": "code",
   "execution_count": null,
   "metadata": {},
   "outputs": [],
   "source": [
    "# Actividad 1.1:\n",
    "name = input(\"escriba su nombre:\")\n",
    "name_upper = name.upper()\n",
    "name_lower = name.lower()\n",
    "\n",
    "print(name_upper)\n",
    "print(name_lower)\n",
    "\n",
    "# Actividad 1.2:\n",
    "name_leng = name.strip()\n",
    "len(name_leng)"
   ]
  },
  {
   "cell_type": "markdown",
   "metadata": {},
   "source": [
    "### 8. **Diccionarios**\n",
    "\n",
    "   - **Actividad1.1**: Crear un diccionario que contenga los nombres de tres personas como claves y sus edades como valores. El programa debe imprimir la edad de cada persona.\n",
    "   - **Actividad1.2**: Escribir un programa que pregunte al usuario un nombre, luego su edad y los agregue al diccionario."
   ]
  },
  {
   "cell_type": "code",
   "execution_count": null,
   "metadata": {},
   "outputs": [],
   "source": [
    "\n",
    "# Actividad 1.1:\n",
    "primer_persona = {\"Nombre\":\"Tomas\", \"Edad\": 20}\n",
    "segunda_persona = {\"Nombre\":\"Carla\", \"Edad\": 21}\n",
    "tercera_persona = {\"Nombre\": \"Gabriel\", \"Edad\": 19}\n",
    "print(primer_persona[\"Edad\"])\n",
    "print(segunda_persona[\"Edad\"])\n",
    "print(tercera_persona[\"Edad\"])\n",
    "\n",
    "# Actividad 1.2:\n",
    "nombre_persona = input(\"Escriba su nombre:\")\n",
    "edad_persona = int(input(\"Escriba su edad:\"))\n",
    "cuarta_persona = {\"Nombre\": {nombre_persona}, \"Edad\": {edad_persona}}\n",
    "print(cuarta_persona)\n"
   ]
  },
  {
   "cell_type": "markdown",
   "metadata": {},
   "source": [
    "### 9. **Números aleatorios**\n",
    "\n",
    "   - **Actividad 1.1**: Escribir un programa que genere 5 números aleatorios entre 1 y 100, lo imprima por consola y diga si es mayor o menor a 50.\n",
    "   - **Actividad 1.2**: Sumar los 5 números generados aleatoriamente y en caso de que el resultado sea mayor a 100, mostrar el valor antes de ser mayor a 100 y cuantos números se sumaron para llegar a dicho valor."
   ]
  },
  {
   "cell_type": "code",
   "execution_count": null,
   "metadata": {},
   "outputs": [],
   "source": [
    "\n",
    "# Actividad 1.1:\n",
    "import random\n",
    "numeros = []\n",
    "suma = 0\n",
    "\n",
    "for i in range(5):\n",
    "    num = random.randint(1, 100)\n",
    "    numeros.append(num)\n",
    "    if num > 50:\n",
    "        print(f\"{num} es mayor a 50|{i} veces\")\n",
    "    elif num < 50:\n",
    "        print(f\"{num} es menor a 50|{i} veces\")\n",
    "    else:\n",
    "        print(f\"{num} es igual a 50|{i} veces\")\n"
   ]
  },
  {
   "cell_type": "markdown",
   "metadata": {},
   "source": [
    "### 10. **Proyecto Final: Calculadora**\n",
    "\n",
    "   - **Actividad 1.1**: Los estudiantes deben crear una calculadora básica que permita realizar operaciones de suma, resta, multiplicación y división con entradas del usuario. El programa debe pedir al usuario que elija la operación y luego introducir 2 números para realizar el cálculo.\n",
    "   - **Actividad 1.2**: Implementar una opción para que el usuario pueda continuar haciendo cálculos o salir del programa."
   ]
  },
  {
   "cell_type": "code",
   "execution_count": null,
   "metadata": {},
   "outputs": [],
   "source": [
    "\n",
    "respuesta = int(input(\"quieres calcular algo?. 1-si, 0-no:\"))\n",
    "\n",
    "if respuesta == 1:\n",
    "    while respuesta != 0:\n",
    "        segunda_respuesta = int(input(\"quieres continuar?. 1-si, 0-no: \"))\n",
    "        if segunda_respuesta == 1:\n",
    "            print(\"Escriba dos numeros a operar:\")\n",
    "            num1 = float(input(\"Escriba el primer numero:\"))\n",
    "            print(f\"primer numero:{num1}\")\n",
    "            num2 = float(input(\"Escriba un segundo numero:\"))\n",
    "            print(f\"segundo numero:{num2}\")\n",
    "            print(\"operaciones:\")\n",
    "            print(\"1-suma\")\n",
    "            print(\"2-resta\")\n",
    "            print(\"3-multiplicacion\")\n",
    "            print(\"4-division\")\n",
    "            operacion = int(input(\"Elija la siguiente operacion a realizar:\"))\n",
    "            if operacion == 1:\n",
    "                resultado = f\"la suma de: {num1} + {num2} = {num1 + num2}\"\n",
    "                print(resultado)\n",
    "            elif operacion == 2:\n",
    "                resultado = f\"la resta de: {num1} - {num2} = {num1 - num2}\"\n",
    "                print(resultado)\n",
    "            elif operacion == 3:\n",
    "                resultado = f\"la multiplicacion de: {num1} * {num2} = {num1 * num2}\"\n",
    "                print(resultado)\n",
    "            elif operacion == 4:\n",
    "                if num2 != 0:\n",
    "                    resultado = f\"la division de: {num1} / {num2} = {num1 / num2}\"\n",
    "                    print(resultado)\n",
    "                else:\n",
    "                    print(\"no se puede dividir por cero\")\n",
    "            else:\n",
    "                print(\"operacion invalida\")\n",
    "        else:\n",
    "            print(\"fin de la operacion\")\n",
    "            break\n",
    "else:\n",
    "    print(\"fin del programa\")\n"
   ]
  },
  {
   "cell_type": "markdown",
   "metadata": {},
   "source": [
    "### EXTRA. **Juegos Simples (Adivina el número)**\n",
    "\n",
    "   - **Actividad 1.1**: Escribir un juego donde el programa elija un número aleatorio entre 1 y 100 y el usuario tenga que adivinarlo. El programa debe dar pistas si el número es mayor o menor.\n",
    "   - **Actividad 1.2**: Limitar el número de intentos y mostrar un mensaje de éxito o fracaso al final."
   ]
  }
 ],
 "metadata": {
  "kernelspec": {
   "display_name": "Python 3",
   "language": "python",
   "name": "python3"
  },
  "language_info": {
   "codemirror_mode": {
    "name": "ipython",
    "version": 3
   },
   "file_extension": ".py",
   "mimetype": "text/x-python",
   "name": "python",
   "nbconvert_exporter": "python",
   "pygments_lexer": "ipython3",
   "version": "3.13.2"
  }
 },
 "nbformat": 4,
 "nbformat_minor": 2
}
